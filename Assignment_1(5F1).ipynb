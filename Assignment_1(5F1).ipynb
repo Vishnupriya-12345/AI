{
  "nbformat": 4,
  "nbformat_minor": 0,
  "metadata": {
    "colab": {
      "name": "Assignment-1(5F1).ipynb",
      "provenance": [],
      "collapsed_sections": [],
      "authorship_tag": "ABX9TyMIB93BXfiOt3oR+UN8ocKD",
      "include_colab_link": true
    },
    "kernelspec": {
      "name": "python3",
      "display_name": "Python 3"
    },
    "language_info": {
      "name": "python"
    }
  },
  "cells": [
    {
      "cell_type": "markdown",
      "metadata": {
        "id": "view-in-github",
        "colab_type": "text"
      },
      "source": [
        "<a href=\"https://colab.research.google.com/github/Vishnupriya-12345/AI/blob/main/Assignment_1(5F1).ipynb\" target=\"_parent\"><img src=\"https://colab.research.google.com/assets/colab-badge.svg\" alt=\"Open In Colab\"/></a>"
      ]
    },
    {
      "cell_type": "code",
      "metadata": {
        "colab": {
          "base_uri": "https://localhost:8080/"
        },
        "id": "lzo3QKHxfjxG",
        "outputId": "cc6acdbe-2932-4a28-c2a9-8c65cca3afc5"
      },
      "source": [
        "#Let x be hectares piece of land for growing Wheat\n",
        "#Let y be hectares piece of land for growing Barley\n",
        "#Objective function:50x+120y\n",
        "#Inequality constraints:7000x+2000y<=700000,10x+30y<=1200,x+y<=110\n",
        "#Boundaries:x>=0,y>=0 \n",
        "from scipy.optimize import linprog\n",
        "obj=[-50,-120]  #objective function matrix\n",
        "A_ieq=[[7000,2000],[10,30],[1,1]]\n",
        "b_ieq=[700000,1200,110]\n",
        "boundery=[(0,float('inf')),(0,float('inf'))]\n",
        "opt=linprog(c=obj,A_ub=A_ieq,b_ub=b_ieq,A_eq=None,b_eq=None,bounds=boundery,method=\"Simplex\")\n",
        "opt.x\n",
        "print('Hectares piece of land for growing Wheat : ',round(opt.x[0]))\n",
        "print('Hectares piece of land for growing Barley : ',round(opt.x[1]))"
      ],
      "execution_count": 12,
      "outputs": [
        {
          "output_type": "stream",
          "text": [
            "Hectares piece of land for growing Wheat :  98\n",
            "Hectares piece of land for growing Barley :  7\n"
          ],
          "name": "stdout"
        }
      ]
    }
  ]
}